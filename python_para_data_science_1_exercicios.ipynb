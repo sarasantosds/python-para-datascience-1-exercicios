{
  "nbformat": 4,
  "nbformat_minor": 0,
  "metadata": {
    "colab": {
      "provenance": [],
      "authorship_tag": "ABX9TyMGJbrvhkwPFHLzi8tJTj9W",
      "include_colab_link": true
    },
    "kernelspec": {
      "name": "python3",
      "display_name": "Python 3"
    },
    "language_info": {
      "name": "python"
    }
  },
  "cells": [
    {
      "cell_type": "markdown",
      "metadata": {
        "id": "view-in-github",
        "colab_type": "text"
      },
      "source": [
        "<a href=\"https://colab.research.google.com/github/sarasantosds/python-para-datascience-1-exercicios/blob/main/python_para_data_science_1_exercicios.ipynb\" target=\"_parent\"><img src=\"https://colab.research.google.com/assets/colab-badge.svg\" alt=\"Open In Colab\"/></a>"
      ]
    },
    {
      "cell_type": "markdown",
      "source": [
        "# Python para Data Science - Exercícios"
      ],
      "metadata": {
        "id": "RfUOec7pJigk"
      }
    },
    {
      "cell_type": "markdown",
      "source": [
        "## Coleta e amostragem de dados"
      ],
      "metadata": {
        "id": "8PejSZqYJrBC"
      }
    },
    {
      "cell_type": "code",
      "execution_count": 15,
      "metadata": {
        "colab": {
          "base_uri": "https://localhost:8080/"
        },
        "id": "FZOOJ4_jJIUV",
        "outputId": "23a364e6-7a57-42f4-d41e-cc8cc2a361fe"
      },
      "outputs": [
        {
          "name": "stdout",
          "output_type": "stream",
          "text": [
            "Digite o seu nome: Sara\n"
          ]
        }
      ],
      "source": [
        "# Crie um programa que solicite à pessoa usuária digitar seu nome, e imprima “Olá, [nome]!”\n",
        "nome = input('Digite o seu nome: ')"
      ]
    },
    {
      "cell_type": "code",
      "source": [
        "print(f'Olá, {nome}!')"
      ],
      "metadata": {
        "colab": {
          "base_uri": "https://localhost:8080/"
        },
        "id": "k0WK_wNuJ6ra",
        "outputId": "bcb0ccf8-8c57-46b0-8526-29913f9a405e"
      },
      "execution_count": 16,
      "outputs": [
        {
          "output_type": "stream",
          "name": "stdout",
          "text": [
            "Olá, Sara!\n"
          ]
        }
      ]
    },
    {
      "cell_type": "code",
      "source": [
        "# Crie um programa que solicite à pessoa usuária digitar seu nome e idade, e imprima “Olá, [nome], você tem [idade] anos.”\n",
        "nome = input('Digite o seu nome: ')\n",
        "idade = int(input('Digite a sua idade: '))"
      ],
      "metadata": {
        "colab": {
          "base_uri": "https://localhost:8080/"
        },
        "id": "-5GnxKl2KBL_",
        "outputId": "97cd7354-d574-43a3-9a48-b201ac266c2a"
      },
      "execution_count": 17,
      "outputs": [
        {
          "name": "stdout",
          "output_type": "stream",
          "text": [
            "Digite o seu nome: Sara\n",
            "Digite a sua idade: 31\n"
          ]
        }
      ]
    },
    {
      "cell_type": "code",
      "source": [
        "print(f'Olá, {nome}, você tem {idade} anos.')"
      ],
      "metadata": {
        "colab": {
          "base_uri": "https://localhost:8080/"
        },
        "id": "_7-z0xlaKQwV",
        "outputId": "17efbcae-2152-43f2-a018-2d1c33c06669"
      },
      "execution_count": 18,
      "outputs": [
        {
          "output_type": "stream",
          "name": "stdout",
          "text": [
            "Olá, Sara, você tem 31 anos.\n"
          ]
        }
      ]
    },
    {
      "cell_type": "code",
      "source": [
        "# Crie um programa que solicite à pessoa usuária digitar seu nome, idade e altura em metros, e imprima “Olá, [nome], você tem [idade] anos e mede [altura] metros!”\n",
        "nome = input('Digite o seu nome: ')\n",
        "idade = int(input('Digite a sua idade: '))\n",
        "altura = float(input('Digite a sua altura: '))"
      ],
      "metadata": {
        "colab": {
          "base_uri": "https://localhost:8080/"
        },
        "id": "jWba2wM2KZHt",
        "outputId": "7f5022f1-5dce-4f5c-a6c6-9c5fe325cc9e"
      },
      "execution_count": 19,
      "outputs": [
        {
          "name": "stdout",
          "output_type": "stream",
          "text": [
            "Digite o seu nome: Sara\n",
            "Digite a sua idade: 31\n",
            "Digite a sua altura: 1.50\n"
          ]
        }
      ]
    },
    {
      "cell_type": "code",
      "source": [
        "print(f'Olá, {nome}, você tem {idade} anos e mede %.2f!' %(altura))"
      ],
      "metadata": {
        "colab": {
          "base_uri": "https://localhost:8080/"
        },
        "id": "Akxqv-k7KmHk",
        "outputId": "89986790-4aac-4b58-de54-b31f02d38a50"
      },
      "execution_count": 22,
      "outputs": [
        {
          "output_type": "stream",
          "name": "stdout",
          "text": [
            "Olá, Sara, você tem 31 anos e mede 1.50!\n"
          ]
        }
      ]
    },
    {
      "cell_type": "markdown",
      "source": [
        "## Calculadora com operadores"
      ],
      "metadata": {
        "id": "YRA04fIsMEe0"
      }
    },
    {
      "cell_type": "code",
      "source": [
        "# Crie um programa que solicite dois valores numéricos à pessoa usuária e imprima a soma dos dois valores.\n",
        "numero_1 = int(input('Digite 1º número: '))\n",
        "numero_2 = int(input('Digite 2º número: '))"
      ],
      "metadata": {
        "colab": {
          "base_uri": "https://localhost:8080/"
        },
        "id": "KZRMQfztKtfy",
        "outputId": "5daa2d54-9d80-471b-9478-674bb2ce5ca5"
      },
      "execution_count": 26,
      "outputs": [
        {
          "name": "stdout",
          "output_type": "stream",
          "text": [
            "Digite 1º número: 31\n",
            "Digite 2º número: 18\n"
          ]
        }
      ]
    },
    {
      "cell_type": "code",
      "source": [
        "soma = numero_1 + numero_2"
      ],
      "metadata": {
        "id": "4tI0pxNQMUu4"
      },
      "execution_count": 36,
      "outputs": []
    },
    {
      "cell_type": "code",
      "source": [
        "soma"
      ],
      "metadata": {
        "colab": {
          "base_uri": "https://localhost:8080/"
        },
        "id": "xmIomuEkMbc-",
        "outputId": "17a4cb09-c48a-4caf-fcc4-55b1ae11da24"
      },
      "execution_count": 35,
      "outputs": [
        {
          "output_type": "execute_result",
          "data": {
            "text/plain": [
              "49"
            ]
          },
          "metadata": {},
          "execution_count": 35
        }
      ]
    },
    {
      "cell_type": "code",
      "source": [
        "# Crie um programa que solicite três valores numéricos à pessoa usuária e imprima a soma dos três valores.\n",
        "numero_1 = int(input('Digite o 1º número: '))\n",
        "numero_2 = int(input('Digite 2º número: '))\n",
        "numero_3 = int(input('Digite 3º número: '))"
      ],
      "metadata": {
        "colab": {
          "base_uri": "https://localhost:8080/"
        },
        "id": "WgZkOCwTMd6p",
        "outputId": "fa49e669-4ded-45c5-938e-4374dca14bb8"
      },
      "execution_count": 29,
      "outputs": [
        {
          "name": "stdout",
          "output_type": "stream",
          "text": [
            "Digite o 1º número: 31\n",
            "Digite 2º número: 18\n",
            "Digite 3º número: 25\n"
          ]
        }
      ]
    },
    {
      "cell_type": "code",
      "source": [
        "soma = numero_1 + numero_2 + numero_3"
      ],
      "metadata": {
        "id": "4Ubb9GxhM7Pj"
      },
      "execution_count": 30,
      "outputs": []
    },
    {
      "cell_type": "code",
      "source": [
        "soma"
      ],
      "metadata": {
        "colab": {
          "base_uri": "https://localhost:8080/"
        },
        "id": "BcAnlvvdNCyS",
        "outputId": "876e3fec-d28c-4933-e61b-b8fcbea2099d"
      },
      "execution_count": 31,
      "outputs": [
        {
          "output_type": "execute_result",
          "data": {
            "text/plain": [
              "74"
            ]
          },
          "metadata": {},
          "execution_count": 31
        }
      ]
    },
    {
      "cell_type": "code",
      "source": [
        "# Crie um programa que solicite dois valores numéricos à pessoa usuária e imprima a subtração do primeiro pelo o segundo valor.\n",
        "numero_1 = int(input('Digite 1º número: '))\n",
        "numero_2 = int(input('Digite 2º número: '))"
      ],
      "metadata": {
        "colab": {
          "base_uri": "https://localhost:8080/"
        },
        "id": "TJsUpOinNELC",
        "outputId": "aebc210b-fceb-4b9a-de40-8e28d76a0814"
      },
      "execution_count": 37,
      "outputs": [
        {
          "name": "stdout",
          "output_type": "stream",
          "text": [
            "Digite 1º número: 31\n",
            "Digite 2º número: 18\n"
          ]
        }
      ]
    },
    {
      "cell_type": "code",
      "source": [
        "subtracao = numero_1 - numero_2"
      ],
      "metadata": {
        "id": "D7Co4GWBOAdm"
      },
      "execution_count": 38,
      "outputs": []
    },
    {
      "cell_type": "code",
      "source": [
        "subtracao"
      ],
      "metadata": {
        "colab": {
          "base_uri": "https://localhost:8080/"
        },
        "id": "Ehe5qLBKOEyG",
        "outputId": "6572f93b-2212-40f9-f3bc-3bd6ebeddeb0"
      },
      "execution_count": 39,
      "outputs": [
        {
          "output_type": "execute_result",
          "data": {
            "text/plain": [
              "13"
            ]
          },
          "metadata": {},
          "execution_count": 39
        }
      ]
    },
    {
      "cell_type": "code",
      "source": [
        "# Crie um programa que solicite dois valores numéricos à pessoa usuária e imprima a multiplicação dos dois valores.\n",
        "numero_1 = int(input('Digite 1º número: '))\n",
        "numero_2 = int(input('Digite 2º número: '))"
      ],
      "metadata": {
        "colab": {
          "base_uri": "https://localhost:8080/"
        },
        "id": "rqVwGbUSOGYN",
        "outputId": "9c308b56-6420-4d25-c706-bad9d2af5366"
      },
      "execution_count": 41,
      "outputs": [
        {
          "name": "stdout",
          "output_type": "stream",
          "text": [
            "Digite 1º número: 7\n",
            "Digite 2º número: 2\n"
          ]
        }
      ]
    },
    {
      "cell_type": "code",
      "source": [
        "multiplicacao = numero_1 * numero_2"
      ],
      "metadata": {
        "id": "e0na3YKmOhWN"
      },
      "execution_count": 42,
      "outputs": []
    },
    {
      "cell_type": "code",
      "source": [
        "multiplicacao"
      ],
      "metadata": {
        "colab": {
          "base_uri": "https://localhost:8080/"
        },
        "id": "YLFfomyKOpxq",
        "outputId": "76383826-ac8b-4972-803b-65f2c07e1909"
      },
      "execution_count": 43,
      "outputs": [
        {
          "output_type": "execute_result",
          "data": {
            "text/plain": [
              "14"
            ]
          },
          "metadata": {},
          "execution_count": 43
        }
      ]
    },
    {
      "cell_type": "code",
      "source": [
        "# Crie um programa que solicite dois valores numéricos, um numerador e um denominador, e realize a divisão entre os dois valores. Deixe claro que o valor do denominador não pode ser 0.\n",
        "numerador = int(input('Digite o 1º número(numerador): '))\n",
        "denominador = int(input('Digite o 2º número(denominador). O número não pode ser zero(0)'))"
      ],
      "metadata": {
        "colab": {
          "base_uri": "https://localhost:8080/"
        },
        "id": "sWb8XgVLOq7M",
        "outputId": "4f2daee9-c9b2-45fa-d586-8d337d6b7137"
      },
      "execution_count": 44,
      "outputs": [
        {
          "name": "stdout",
          "output_type": "stream",
          "text": [
            "Digite o 1º número(numerador): 14\n",
            "Digite o 2º número(denominador). O número não pode ser zero(0)2\n"
          ]
        }
      ]
    },
    {
      "cell_type": "code",
      "source": [
        "# divisão real\n",
        "divisao = numerador / denominador"
      ],
      "metadata": {
        "id": "VQN4XKDpPL2-"
      },
      "execution_count": 47,
      "outputs": []
    },
    {
      "cell_type": "code",
      "source": [
        "divisao"
      ],
      "metadata": {
        "colab": {
          "base_uri": "https://localhost:8080/"
        },
        "id": "TonFv4zGPQ9u",
        "outputId": "3c914185-aef0-4cbe-aaee-0969cf50b83b"
      },
      "execution_count": 48,
      "outputs": [
        {
          "output_type": "execute_result",
          "data": {
            "text/plain": [
              "7.0"
            ]
          },
          "metadata": {},
          "execution_count": 48
        }
      ]
    },
    {
      "cell_type": "code",
      "source": [
        "# divisão inteira\n",
        "divisao = numerador // denominador"
      ],
      "metadata": {
        "id": "BiZceRxqPRhA"
      },
      "execution_count": 49,
      "outputs": []
    },
    {
      "cell_type": "code",
      "source": [
        "divisao"
      ],
      "metadata": {
        "colab": {
          "base_uri": "https://localhost:8080/"
        },
        "id": "TI4KB3SpPdVU",
        "outputId": "d877acd7-d0d4-41f2-c970-e6704172d220"
      },
      "execution_count": 50,
      "outputs": [
        {
          "output_type": "execute_result",
          "data": {
            "text/plain": [
              "7"
            ]
          },
          "metadata": {},
          "execution_count": 50
        }
      ]
    },
    {
      "cell_type": "code",
      "source": [
        "# resto da divisão\n",
        "resto = numerador % denominador"
      ],
      "metadata": {
        "id": "qZK3NFOdQEch"
      },
      "execution_count": 57,
      "outputs": []
    },
    {
      "cell_type": "code",
      "source": [
        "resto"
      ],
      "metadata": {
        "colab": {
          "base_uri": "https://localhost:8080/"
        },
        "id": "bKTGqv87QKE2",
        "outputId": "900b062c-03d1-4963-cb23-cd19d3be1d02"
      },
      "execution_count": 58,
      "outputs": [
        {
          "output_type": "execute_result",
          "data": {
            "text/plain": [
              "0"
            ]
          },
          "metadata": {},
          "execution_count": 58
        }
      ]
    },
    {
      "cell_type": "code",
      "source": [
        "# Crie um programa que solicite dois valores numéricos, um operador e uma potência, e realize a exponenciação entre esses dois valores.\n",
        "operador = int(input('Digite o 1º número(operador): '))\n",
        "potencia = int(input('Digite o 2º número(potência): '))"
      ],
      "metadata": {
        "colab": {
          "base_uri": "https://localhost:8080/"
        },
        "id": "8jo-6bB2PeMW",
        "outputId": "60103124-d386-43cd-893b-8d713c592334"
      },
      "execution_count": 51,
      "outputs": [
        {
          "name": "stdout",
          "output_type": "stream",
          "text": [
            "Digite o 1º número(operador): 3\n",
            "Digite o 2º número(potência): 2\n"
          ]
        }
      ]
    },
    {
      "cell_type": "code",
      "source": [
        "exponenciacao = 3 ** 2"
      ],
      "metadata": {
        "id": "8EzoFTKhP4jY"
      },
      "execution_count": 52,
      "outputs": []
    },
    {
      "cell_type": "code",
      "source": [
        "exponenciacao"
      ],
      "metadata": {
        "colab": {
          "base_uri": "https://localhost:8080/"
        },
        "id": "I0sL4qXXP8rH",
        "outputId": "e718da86-021e-4eb8-dc0f-285011a53096"
      },
      "execution_count": 53,
      "outputs": [
        {
          "output_type": "execute_result",
          "data": {
            "text/plain": [
              "9"
            ]
          },
          "metadata": {},
          "execution_count": 53
        }
      ]
    },
    {
      "cell_type": "code",
      "source": [
        "# Crie um código que solicita 3 notas de um estudante e imprima a média das notas.\n",
        "nota_1 = float(input('Digite a 1ª nota: '))\n",
        "nota_2 = float(input('Digite a 2ª nota: '))\n",
        "nota_3 = float(input('Digite a 3ª nota: '))"
      ],
      "metadata": {
        "colab": {
          "base_uri": "https://localhost:8080/"
        },
        "id": "OTdsvMcwP9a6",
        "outputId": "e2b70804-cfc4-48cc-e0dc-f0da2e18cb42"
      },
      "execution_count": 59,
      "outputs": [
        {
          "name": "stdout",
          "output_type": "stream",
          "text": [
            "Digite a 1ª nota: 9\n",
            "Digite a 2ª nota: 7.5\n",
            "Digite a 3ª nota: 8.7\n"
          ]
        }
      ]
    },
    {
      "cell_type": "code",
      "source": [
        "media = (nota_1 + nota_2 + nota_3) / 3"
      ],
      "metadata": {
        "id": "D7YKe_6eR1Hk"
      },
      "execution_count": 62,
      "outputs": []
    },
    {
      "cell_type": "code",
      "source": [
        "media"
      ],
      "metadata": {
        "colab": {
          "base_uri": "https://localhost:8080/"
        },
        "id": "rmstZyLcT3cO",
        "outputId": "bd5bfd99-729b-47ff-af1a-123768779947"
      },
      "execution_count": 63,
      "outputs": [
        {
          "output_type": "execute_result",
          "data": {
            "text/plain": [
              "8.4"
            ]
          },
          "metadata": {},
          "execution_count": 63
        }
      ]
    },
    {
      "cell_type": "code",
      "source": [
        "# Crie um código que calcule e imprima a média ponderada dos números 5, 12, 20 e 15 com pesos respectivamente iguais a 1, 2, 3 e 4.\n",
        "numeros = [5, 12, 20, 15]\n",
        "pesos = [1, 2, 3, 4]\n",
        "soma = 0\n",
        "\n",
        "for x, y in zip(numeros, pesos):\n",
        "  soma += x * y\n",
        "\n",
        "media_ponderada = soma / sum(pesos)"
      ],
      "metadata": {
        "id": "9Fdvjo6aT4OC"
      },
      "execution_count": 65,
      "outputs": []
    },
    {
      "cell_type": "code",
      "source": [
        "media_ponderada"
      ],
      "metadata": {
        "colab": {
          "base_uri": "https://localhost:8080/"
        },
        "id": "Oe6D_BprUbe6",
        "outputId": "e71a41b9-7123-4ef2-fd3c-e968c1b98a24"
      },
      "execution_count": 66,
      "outputs": [
        {
          "output_type": "execute_result",
          "data": {
            "text/plain": [
              "14.9"
            ]
          },
          "metadata": {},
          "execution_count": 66
        }
      ]
    },
    {
      "cell_type": "markdown",
      "source": [
        "## Editando textos"
      ],
      "metadata": {
        "id": "5phekhWBU0f2"
      }
    },
    {
      "cell_type": "code",
      "source": [
        "# Crie uma variável chamada “frase” e atribua a ela uma string de sua escolha. Em seguida, imprima a frase na tela.\n",
        "frase = 'Aprendendo Python'"
      ],
      "metadata": {
        "id": "Zt9JQ4o4UtxB"
      },
      "execution_count": 69,
      "outputs": []
    },
    {
      "cell_type": "code",
      "source": [
        "frase"
      ],
      "metadata": {
        "colab": {
          "base_uri": "https://localhost:8080/",
          "height": 35
        },
        "id": "37I5vD4SU9Y6",
        "outputId": "6c3ee279-c83b-4d44-c054-5e96689e6331"
      },
      "execution_count": 70,
      "outputs": [
        {
          "output_type": "execute_result",
          "data": {
            "text/plain": [
              "'Aprendendo Python'"
            ],
            "application/vnd.google.colaboratory.intrinsic+json": {
              "type": "string"
            }
          },
          "metadata": {},
          "execution_count": 70
        }
      ]
    },
    {
      "cell_type": "code",
      "source": [
        "# Crie um código que solicite uma frase e depois imprima a frase na tela.\n",
        "frase = input('Escreva uma frase: ')"
      ],
      "metadata": {
        "colab": {
          "base_uri": "https://localhost:8080/"
        },
        "id": "hP_0531NVCv6",
        "outputId": "f952e59b-594b-4a1b-f80e-00bf2419e5b4"
      },
      "execution_count": 71,
      "outputs": [
        {
          "name": "stdout",
          "output_type": "stream",
          "text": [
            "Escreva uma frase: Amar é muito bom\n"
          ]
        }
      ]
    },
    {
      "cell_type": "code",
      "source": [
        "frase"
      ],
      "metadata": {
        "colab": {
          "base_uri": "https://localhost:8080/",
          "height": 35
        },
        "id": "8kOK1A_qVNFe",
        "outputId": "bf8abc36-d046-437a-c9fe-8c34da1117a0"
      },
      "execution_count": 72,
      "outputs": [
        {
          "output_type": "execute_result",
          "data": {
            "text/plain": [
              "'Amar é muito bom'"
            ],
            "application/vnd.google.colaboratory.intrinsic+json": {
              "type": "string"
            }
          },
          "metadata": {},
          "execution_count": 72
        }
      ]
    },
    {
      "cell_type": "code",
      "source": [
        "# frase em letras maiúsculas\n",
        "frase.upper()"
      ],
      "metadata": {
        "colab": {
          "base_uri": "https://localhost:8080/",
          "height": 35
        },
        "id": "I_1ORAM6VPvg",
        "outputId": "72d1777b-d425-4090-c657-84fef9872a01"
      },
      "execution_count": 73,
      "outputs": [
        {
          "output_type": "execute_result",
          "data": {
            "text/plain": [
              "'AMAR É MUITO BOM'"
            ],
            "application/vnd.google.colaboratory.intrinsic+json": {
              "type": "string"
            }
          },
          "metadata": {},
          "execution_count": 73
        }
      ]
    },
    {
      "cell_type": "code",
      "source": [
        "# frase em letras minúsculas\n",
        "frase.lower()"
      ],
      "metadata": {
        "colab": {
          "base_uri": "https://localhost:8080/",
          "height": 35
        },
        "id": "ZTJMR5RiVXb4",
        "outputId": "d3955b6b-2344-45ac-cb33-462563adfd0f"
      },
      "execution_count": 74,
      "outputs": [
        {
          "output_type": "execute_result",
          "data": {
            "text/plain": [
              "'amar é muito bom'"
            ],
            "application/vnd.google.colaboratory.intrinsic+json": {
              "type": "string"
            }
          },
          "metadata": {},
          "execution_count": 74
        }
      ]
    },
    {
      "cell_type": "code",
      "source": [
        "# Crie um código que solicite uma frase à pessoa usuária e imprima a mesma frase sem espaços em branco no início e no fim.\n",
        "frase = input('Escreva uma frase: ')"
      ],
      "metadata": {
        "colab": {
          "base_uri": "https://localhost:8080/"
        },
        "id": "_FetLKkDVcx1",
        "outputId": "65c91a4b-655f-4d3a-80b5-6893264d4e09"
      },
      "execution_count": 75,
      "outputs": [
        {
          "name": "stdout",
          "output_type": "stream",
          "text": [
            "Escreva uma frase:    Python é legal   \n"
          ]
        }
      ]
    },
    {
      "cell_type": "code",
      "source": [
        "# frase com espaços\n",
        "frase"
      ],
      "metadata": {
        "colab": {
          "base_uri": "https://localhost:8080/",
          "height": 35
        },
        "id": "Ao4D7pG1V5so",
        "outputId": "e6429cda-1219-4abb-dc7b-079a3aaeeffb"
      },
      "execution_count": 78,
      "outputs": [
        {
          "output_type": "execute_result",
          "data": {
            "text/plain": [
              "'   Python é legal   '"
            ],
            "application/vnd.google.colaboratory.intrinsic+json": {
              "type": "string"
            }
          },
          "metadata": {},
          "execution_count": 78
        }
      ]
    },
    {
      "cell_type": "code",
      "source": [
        "# frase sem espaços e em letras minúsculas\n",
        "frase.strip().lower()"
      ],
      "metadata": {
        "colab": {
          "base_uri": "https://localhost:8080/",
          "height": 35
        },
        "id": "2h17UPYSV_pA",
        "outputId": "7a98d53e-5e3a-4726-846f-449df67ba884"
      },
      "execution_count": 80,
      "outputs": [
        {
          "output_type": "execute_result",
          "data": {
            "text/plain": [
              "'python é legal'"
            ],
            "application/vnd.google.colaboratory.intrinsic+json": {
              "type": "string"
            }
          },
          "metadata": {},
          "execution_count": 80
        }
      ]
    },
    {
      "cell_type": "code",
      "source": [
        "# Crie um código que solicite uma frase à pessoa usuária e imprima a mesma frase com todas as vogais “e” trocadas pela letra “f”.\n",
        "frase = input('Escreva uma frase: ')"
      ],
      "metadata": {
        "colab": {
          "base_uri": "https://localhost:8080/"
        },
        "id": "-aMZePxeWEMe",
        "outputId": "fffa9a14-bde9-4e91-86ac-c34c4ee6554b"
      },
      "execution_count": 82,
      "outputs": [
        {
          "name": "stdout",
          "output_type": "stream",
          "text": [
            "Escreva uma frase: Aprendendo a aprender a ter sucesso\n"
          ]
        }
      ]
    },
    {
      "cell_type": "code",
      "source": [
        "# trocar e por f, a por @ e s por $\n",
        "frase.replace('e', 'f').replace('a', '@').replace('s', '$')"
      ],
      "metadata": {
        "colab": {
          "base_uri": "https://localhost:8080/",
          "height": 35
        },
        "id": "t-KKgoz2WeVZ",
        "outputId": "beb21fd5-4ab1-4de2-d00d-5bf2284813cd"
      },
      "execution_count": 83,
      "outputs": [
        {
          "output_type": "execute_result",
          "data": {
            "text/plain": [
              "'Aprfndfndo @ @prfndfr @ tfr $ucf$$o'"
            ],
            "application/vnd.google.colaboratory.intrinsic+json": {
              "type": "string"
            }
          },
          "metadata": {},
          "execution_count": 83
        }
      ]
    },
    {
      "cell_type": "code",
      "source": [],
      "metadata": {
        "id": "nf6m3j9xW3NM"
      },
      "execution_count": null,
      "outputs": []
    }
  ]
}